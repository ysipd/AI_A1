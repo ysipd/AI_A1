{
 "cells": [
  {
   "cell_type": "code",
   "execution_count": 27,
   "metadata": {},
   "outputs": [],
   "source": [
    "import pandas as pd\n",
    "import numpy as np"
   ]
  },
  {
   "cell_type": "code",
   "execution_count": 28,
   "metadata": {},
   "outputs": [
    {
     "data": {
      "text/html": [
       "<div>\n",
       "<style scoped>\n",
       "    .dataframe tbody tr th:only-of-type {\n",
       "        vertical-align: middle;\n",
       "    }\n",
       "\n",
       "    .dataframe tbody tr th {\n",
       "        vertical-align: top;\n",
       "    }\n",
       "\n",
       "    .dataframe thead th {\n",
       "        text-align: right;\n",
       "    }\n",
       "</style>\n",
       "<table border=\"1\" class=\"dataframe\">\n",
       "  <thead>\n",
       "    <tr style=\"text-align: left;\">\n",
       "      <th></th>\n",
       "      <th>ConversationId</th>\n",
       "      <th>Conversation</th>\n",
       "    </tr>\n",
       "  </thead>\n",
       "  <tbody>\n",
       "    <tr>\n",
       "      <th>0</th>\n",
       "      <td>3</td>\n",
       "      <td>user: Omni Admin : Test Message .....</td>\n",
       "    </tr>\n",
       "    <tr>\n",
       "      <th>1</th>\n",
       "      <td>6</td>\n",
       "      <td>user: Hello from Rakesh\\nbot: testing omni qa environment - from omni admin\\nuser: Got it</td>\n",
       "    </tr>\n",
       "    <tr>\n",
       "      <th>2</th>\n",
       "      <td>9</td>\n",
       "      <td>bot: This is a longer message.  This is a longer message.This is a longer message.This is a longer message.This is a longer message.This is a longer message.This is a longer message.This is a longer message.This is a longer message.\\nuser: This is a response from my I  go up\\nbot: Adding more text in hopes of seeing a scrollbar and replicating an issue.Adding more text in hopes of seeing a scrollbar and replicating an issue.Adding more text in hopes of seeing a scrollbar and replicating an issue.Adding more text in hopes of seeing a scrollbar and replicating an issue.Adding more text in hopes of seeing a scrollbar and replicating an issue.\\nuser: Another text reply to make the text chain a bit longer and replicate an issue\\nbot: Adding more text in hopes of seeing a scrollbar and replicating an issue.Adding more text in hopes of seeing a scrollbar and replicating an issue.Adding more text in hopes of seeing a scrollbar and replicating an issue.Adding more text in hopes of seeing a scrollbar and replicating an issue.Adding more text in hopes of seeing a scrollbar and replicating an issue.\\nuser: Response \\nbot: Adding more text in hopes of seeing a scrollbar and replicating an issue.Adding more text in hopes of seeing a scrollbar and replicating an issue.Adding more text in hopes of seeing a scrollbar and replicating an issue.Adding more text in hopes of seeing a scrollbar and replicating an issue.Adding more text in hopes of seeing a scrollbar and replicating an issue.\\nuser: Response \\nbot: One more message\\nuser: Response again \\nbot: hey this is rob testing you can ignore\\nuser: Ok\\nbot: What number is this from?\\nbot: Hi\\nuser: Test message</td>\n",
       "    </tr>\n",
       "    <tr>\n",
       "      <th>3</th>\n",
       "      <td>12</td>\n",
       "      <td>bot: Hi\\nuser: Hello</td>\n",
       "    </tr>\n",
       "    <tr>\n",
       "      <th>4</th>\n",
       "      <td>15</td>\n",
       "      <td>user: Test from Brandon.\\nbot: hi!</td>\n",
       "    </tr>\n",
       "    <tr>\n",
       "      <th>...</th>\n",
       "      <td>...</td>\n",
       "      <td>...</td>\n",
       "    </tr>\n",
       "    <tr>\n",
       "      <th>215266</th>\n",
       "      <td>276542</td>\n",
       "      <td>bot: Please note, pricing and availability are subject to change at any time.                            I found following 1 floorplans matching for your request of 2 bedroom apartment/s with move-in on Feb 28, 2025:</td>\n",
       "    </tr>\n",
       "    <tr>\n",
       "      <th>215267</th>\n",
       "      <td>276545</td>\n",
       "      <td>bot: Please note, pricing and availability are subject to change at any time.                            Here is what I found for your requested bedroom size,matching for your request of 2 bedroom apartment/s with move-in on Feb 28, 2025:</td>\n",
       "    </tr>\n",
       "    <tr>\n",
       "      <th>215268</th>\n",
       "      <td>276548</td>\n",
       "      <td>bot: Please note, pricing and availability are subject to change at any time.                            Here is what I found for your requested bedroom size,matching for your request of 2 bedroom apartment/s with move-in on Mar 01, 2025:</td>\n",
       "    </tr>\n",
       "    <tr>\n",
       "      <th>215269</th>\n",
       "      <td>276560</td>\n",
       "      <td>bot: Please note, pricing and availability are subject to change at any time.                            I found following 1 floorplans matching for your request of 2 bedroom apartment/s with move-in on Mar 16, 2025:</td>\n",
       "    </tr>\n",
       "    <tr>\n",
       "      <th>215270</th>\n",
       "      <td>276653</td>\n",
       "      <td>bot: Please note, pricing and availability are subject to change at any time.                            We don’t have any apartments available in the requested range, but here are some close matches,\\nbot: Please note, pricing and availability are subject to change at any time.                            We don’t have any apartments available in the requested range, but here are some close matches,</td>\n",
       "    </tr>\n",
       "  </tbody>\n",
       "</table>\n",
       "<p>215271 rows × 2 columns</p>\n",
       "</div>"
      ],
      "text/plain": [
       "        ConversationId  \\\n",
       "0            3           \n",
       "1            6           \n",
       "2            9           \n",
       "3           12           \n",
       "4           15           \n",
       "...                ...   \n",
       "215266  276542           \n",
       "215267  276545           \n",
       "215268  276548           \n",
       "215269  276560           \n",
       "215270  276653           \n",
       "\n",
       "       Conversation                                                                                                                                                                                                                                                                                                                                                                                                                                                                                                                                                                                                                                                                                                                                                                                                                                                                                                                                                                                                                                                                                                                                                                                                                                                                                                                                                                                                                                                                                                                                                                                                                                                                                                                                \n",
       "0                                                                                                                                                                                                                                                                                                                                                                                                                                                                                                                                                                                                                                                                                                                                                                                                                                                                                                                                                                                                                                                                                                                                                                                                                                                                                                                                                                                                                                                                                                                                                                                                                                                                                                           user: Omni Admin : Test Message .....  \n",
       "1                                                                                                                                                                                                                                                                                                                                                                                                                                                                                                                                                                                                                                                                                                                                                                                                                                                                                                                                                                                                                                                                                                                                                                                                                                                                                                                                                                                                                                                                                                                                                                                                                                                      user: Hello from Rakesh\\nbot: testing omni qa environment - from omni admin\\nuser: Got it   \n",
       "2       bot: This is a longer message.  This is a longer message.This is a longer message.This is a longer message.This is a longer message.This is a longer message.This is a longer message.This is a longer message.This is a longer message.\\nuser: This is a response from my I  go up\\nbot: Adding more text in hopes of seeing a scrollbar and replicating an issue.Adding more text in hopes of seeing a scrollbar and replicating an issue.Adding more text in hopes of seeing a scrollbar and replicating an issue.Adding more text in hopes of seeing a scrollbar and replicating an issue.Adding more text in hopes of seeing a scrollbar and replicating an issue.\\nuser: Another text reply to make the text chain a bit longer and replicate an issue\\nbot: Adding more text in hopes of seeing a scrollbar and replicating an issue.Adding more text in hopes of seeing a scrollbar and replicating an issue.Adding more text in hopes of seeing a scrollbar and replicating an issue.Adding more text in hopes of seeing a scrollbar and replicating an issue.Adding more text in hopes of seeing a scrollbar and replicating an issue.\\nuser: Response \\nbot: Adding more text in hopes of seeing a scrollbar and replicating an issue.Adding more text in hopes of seeing a scrollbar and replicating an issue.Adding more text in hopes of seeing a scrollbar and replicating an issue.Adding more text in hopes of seeing a scrollbar and replicating an issue.Adding more text in hopes of seeing a scrollbar and replicating an issue.\\nuser: Response \\nbot: One more message\\nuser: Response again \\nbot: hey this is rob testing you can ignore\\nuser: Ok\\nbot: What number is this from?\\nbot: Hi\\nuser: Test message   \n",
       "3                                                                                                                                                                                                                                                                                                                                                                                                                                                                                                                                                                                                                                                                                                                                                                                                                                                                                                                                                                                                                                                                                                                                                                                                                                                                                                                                                                                                                                                                                                                                                                                                                                                                                                                            bot: Hi\\nuser: Hello  \n",
       "4                                                                                                                                                                                                                                                                                                                                                                                                                                                                                                                                                                                                                                                                                                                                                                                                                                                                                                                                                                                                                                                                                                                                                                                                                                                                                                                                                                                                                                                                                                                                                                                                                                                                                                              user: Test from Brandon.\\nbot: hi!  \n",
       "...                                                                                                                                                                                                                                                                                                                                                                                                                                                                                                                                                                                                                                                                                                                                                                                                                                                                                                                                                                                                                                                                                                                                                                                                                                                                                                                                                                                                                                                                                                                                                                                                                                                                                                                                           ...  \n",
       "215266                                                                                                                                                                                                                                                                                                                                                                                                                                                                                                                                                                                                                                                                                                                                                                                                                                                                                                                                                                                                                                                                                                                                                                                                                                                                                                                                                                                                                                                                                                                   bot: Please note, pricing and availability are subject to change at any time.                            I found following 1 floorplans matching for your request of 2 bedroom apartment/s with move-in on Feb 28, 2025:  \n",
       "215267                                                                                                                                                                                                                                                                                                                                                                                                                                                                                                                                                                                                                                                                                                                                                                                                                                                                                                                                                                                                                                                                                                                                                                                                                                                                                                                                                                                                                                                                                             bot: Please note, pricing and availability are subject to change at any time.                            Here is what I found for your requested bedroom size,matching for your request of 2 bedroom apartment/s with move-in on Feb 28, 2025:  \n",
       "215268                                                                                                                                                                                                                                                                                                                                                                                                                                                                                                                                                                                                                                                                                                                                                                                                                                                                                                                                                                                                                                                                                                                                                                                                                                                                                                                                                                                                                                                                                             bot: Please note, pricing and availability are subject to change at any time.                            Here is what I found for your requested bedroom size,matching for your request of 2 bedroom apartment/s with move-in on Mar 01, 2025:  \n",
       "215269                                                                                                                                                                                                                                                                                                                                                                                                                                                                                                                                                                                                                                                                                                                                                                                                                                                                                                                                                                                                                                                                                                                                                                                                                                                                                                                                                                                                                                                                                                                   bot: Please note, pricing and availability are subject to change at any time.                            I found following 1 floorplans matching for your request of 2 bedroom apartment/s with move-in on Mar 16, 2025:  \n",
       "215270                                                                                                                                                                                                                                                                                                                                                                                                                                                                                                                                                                                                                                                                                                                                                                                                                                                                                                                                                                                                                                                                                                                                                                                                                                                                                                                         bot: Please note, pricing and availability are subject to change at any time.                            We don’t have any apartments available in the requested range, but here are some close matches,\\nbot: Please note, pricing and availability are subject to change at any time.                            We don’t have any apartments available in the requested range, but here are some close matches,  \n",
       "\n",
       "[215271 rows x 2 columns]"
      ]
     },
     "execution_count": 28,
     "metadata": {},
     "output_type": "execute_result"
    }
   ],
   "source": [
    "df = pd.read_pickle('convo3.pkl')\n",
    "df"
   ]
  },
  {
   "cell_type": "code",
   "execution_count": 29,
   "metadata": {},
   "outputs": [
    {
     "name": "stdout",
     "output_type": "stream",
     "text": [
      "Number of missing values: 0\n",
      "Empty strings: 2863\n"
     ]
    }
   ],
   "source": [
    "print(\"Number of missing values:\", df['Conversation'].isna().sum())\n",
    "print(\"Empty strings:\", (df['Conversation'] == \"\").sum())\n"
   ]
  },
  {
   "cell_type": "code",
   "execution_count": 30,
   "metadata": {},
   "outputs": [
    {
     "name": "stdout",
     "output_type": "stream",
     "text": [
      "Sample of 200 records saved to sample_200.pkl\n"
     ]
    }
   ],
   "source": [
    "import pandas as pd\n",
    "\n",
    "# Select 200 random records with a fixed seed for reproducibility\n",
    "sample_df = df.sample(n=200, random_state=42).reset_index(drop=True)\n",
    "\n",
    "# Save the sample to a new pickle file for consistency\n",
    "sample_file = \"sample_200.pkl\"\n",
    "sample_df.to_pickle(sample_file)\n",
    "print(f\"Sample of 200 records saved to {sample_file}\")"
   ]
  },
  {
   "cell_type": "code",
   "execution_count": 31,
   "metadata": {},
   "outputs": [
    {
     "name": "stdout",
     "output_type": "stream",
     "text": [
      "Randomly Selected ConversationIds for Manual Check:\n",
      "1. 30992\n",
      "2. 113837\n",
      "3. 156837\n",
      "4. 172704\n",
      "5. 56331\n"
     ]
    }
   ],
   "source": [
    "random_ids = sample_df['ConversationId'].sample(n=5, random_state=42).tolist()\n",
    "pd.set_option('display.max_colwidth', None)\n",
    "print(\"Randomly Selected ConversationIds for Manual Check:\")\n",
    "for idx, cid in enumerate(random_ids, 1):\n",
    "    print(f\"{idx}. {cid}\")"
   ]
  },
  {
   "cell_type": "code",
   "execution_count": 32,
   "metadata": {},
   "outputs": [
    {
     "name": "stdout",
     "output_type": "stream",
     "text": [
      "\n",
      "--- Results from textattack.pkl ---\n",
      "    ConversationId Conversation  result       confidence_score\n",
      "95  30992           user: hey!\\n  successful  0.991748        \n",
      "-------------------------------------------------\n",
      "    ConversationId Conversation result       confidence_score\n",
      "15  113837          user: Hey    successful  0.995396        \n",
      "-------------------------------------------------\n",
      "    ConversationId  \\\n",
      "30  156837           \n",
      "\n",
      "   Conversation                                                                                                                                                                                                                                                                                                                                          \\\n",
      "30  bot: Your appointment is confirmed.\\nbot: Reply YES to consent to text messages from DNC IQ: Ponderosa Pine Villas by CRM IQ QA Company and to agree to our Terms and Conditions and Privacy Policy. These messages may be automated and contain marketing information. Your consent is not required for any purchase or rental. Reply STOP to end.   \n",
      "\n",
      "   result       confidence_score  \n",
      "30  successful  0.613455          \n",
      "-------------------------------------------------\n",
      "     ConversationId  \\\n",
      "158  172704           \n",
      "\n",
      "    Conversation                                                                                                        \\\n",
      "158  user: Hey\\n\\nbot: How can I help you?\\nuser: current resident\\nbot: Please  click here  to go to resident portal.   \n",
      "\n",
      "    result       confidence_score  \n",
      "158  successful  0.87285           \n",
      "-------------------------------------------------\n",
      "     ConversationId  \\\n",
      "128  56331            \n",
      "\n",
      "    Conversation                                                                     \\\n",
      "128  bot: Thank you for contacting DNC RCC Chapel Tower - Flex QA! How can we help?   \n",
      "\n",
      "    result       confidence_score  \n",
      "128  successful  0.999248          \n",
      "-------------------------------------------------\n"
     ]
    }
   ],
   "source": [
    "# Load classified result files\n",
    "ta_df = pd.read_pickle(\"textattack.pkl\")\n",
    "bertbase_df = pd.read_pickle(\"bert_base_uncased.pkl\")\n",
    "\n",
    "print(\"\\n--- Results from textattack.pkl ---\")\n",
    "for cid in random_ids:\n",
    "    record = ta_df[ta_df['ConversationId'] == cid]\n",
    "    print(record[['ConversationId', 'Conversation', 'result', 'confidence_score']])\n",
    "    print(\"-------------------------------------------------\")\n",
    "\n"
   ]
  },
  {
   "cell_type": "code",
   "execution_count": 34,
   "metadata": {},
   "outputs": [
    {
     "name": "stdout",
     "output_type": "stream",
     "text": [
      "\n",
      "--- Results from bert_base.pkl ---\n",
      "    ConversationId Conversation  result         confidence_score\n",
      "95  30992           user: hey!\\n  unsuccessful  0.524407        \n",
      "-------------------------------------------------\n",
      "    ConversationId Conversation result         confidence_score\n",
      "15  113837          user: Hey    unsuccessful  0.537993        \n",
      "-------------------------------------------------\n",
      "    ConversationId  \\\n",
      "30  156837           \n",
      "\n",
      "   Conversation                                                                                                                                                                                                                                                                                                                                          \\\n",
      "30  bot: Your appointment is confirmed.\\nbot: Reply YES to consent to text messages from DNC IQ: Ponderosa Pine Villas by CRM IQ QA Company and to agree to our Terms and Conditions and Privacy Policy. These messages may be automated and contain marketing information. Your consent is not required for any purchase or rental. Reply STOP to end.   \n",
      "\n",
      "   result         confidence_score  \n",
      "30  unsuccessful  0.508215          \n",
      "-------------------------------------------------\n",
      "     ConversationId  \\\n",
      "158  172704           \n",
      "\n",
      "    Conversation                                                                                                        \\\n",
      "158  user: Hey\\n\\nbot: How can I help you?\\nuser: current resident\\nbot: Please  click here  to go to resident portal.   \n",
      "\n",
      "    result         confidence_score  \n",
      "158  unsuccessful  0.518169          \n",
      "-------------------------------------------------\n",
      "     ConversationId  \\\n",
      "128  56331            \n",
      "\n",
      "    Conversation                                                                     \\\n",
      "128  bot: Thank you for contacting DNC RCC Chapel Tower - Flex QA! How can we help?   \n",
      "\n",
      "    result         confidence_score  \n",
      "128  unsuccessful  0.503274          \n",
      "-------------------------------------------------\n"
     ]
    }
   ],
   "source": [
    "print(\"\\n--- Results from bert_base.pkl ---\")\n",
    "for cid in random_ids:\n",
    "    record = bertbase_df[bertbase_df['ConversationId'] == cid]\n",
    "    print(record[['ConversationId', 'Conversation', 'result', 'confidence_score']])\n",
    "    print(\"-------------------------------------------------\")"
   ]
  },
  {
   "cell_type": "code",
   "execution_count": 35,
   "metadata": {},
   "outputs": [
    {
     "name": "stdout",
     "output_type": "stream",
     "text": [
      "   ConversationId  \\\n",
      "0   89838           \n",
      "1  188714           \n",
      "2   14044           \n",
      "3  180058           \n",
      "4   92814           \n",
      "\n",
      "  Conversation                                                                                                                                                                                                                                                                                                                                                                                                                                                                                                                                                                                                                                                                                                                                                                                                                                                                                                                                                                                                                                                                                                                                                                                                                                                                                                                                                                                                                                                                                                                                                                                                                                                                                                                                                                                                                                                                                                                                                                                                                                                                                                                                                                                                                                                                                                                                                                                                                                                                                                                                                                                                                                                                                                                                                                                                                                                                                           \\\n",
      "0  user: START\\nuser: schedule a tour\\nbot: We are now offering your tour, your way. We are looking forward to providing your tour experience in-person and virtually, whichever is most convenient for you.\\nbot: Select the preferred tour type: Guided, Self-guided or Live Video Tour\\nuser: guided\\nbot: What date works best for you?\\nuser: 9th jun\\nbot: I am sorry, no appointments are available on this date.\\nbot: What date works best for you (MM/DD/YYYY)?\\nuser: /restart\\nuser: hello\\nbot: Hello! Welcome to Chapel Tower.\\nbot: How may I help you?\\nuser: what is available\\nbot: Our availability is very dynamic and we are happy to share the info with you.\\nbot: How many bedrooms do you need, Studio, 1, 2 or 3 bedroom?\\nuser: 2\\nbot: When would you like to move in?\\nuser: 7/1\\nbot: Here is what I found for 2 bedroom apartments with a move in date of 07/01/2022. Click https://www.chatiqqa.com/floorplans/magnolia?ga=123123 to see additional availability.\\nbot: Floor Plan - Magnolia - 2 bedroom 1.5 bath with 1010 Sqft 4 unit(s) available. Rent starting at $980.\\nbot: Pricing and availability are subject to change at any time.\\nbot: How else can I help you?\\nuser: availability?\\nbot: Our availability is very dynamic and we are happy to share the info with you.\\nbot: How many bedrooms do you need, Studio, 1, 2 or 3 bedroom?\\nuser: 3 beds\\nbot: When would you like to move in?\\nuser: 3\\nbot: Please provide a date in the future.\\nbot: 06/03/2022 is not a valid option. Please provide a data in future.\\nbot: When would you like to move in  (MM/DD/YYYY)?\\nuser: /restart\\nuser: what is available?\\nbot: Our availability is very dynamic and we are happy to share the info with you.\\nbot: How many bedrooms do you need, Studio, 1, 2 or 3 bedroom?\\nuser: /restart\\nuser: hi\\nbot: Hello! Welcome to Chapel Tower.\\nbot: How may I help you?\\nuser: what is available?\\nbot: Our availability is very dynamic and we are happy to share the info with you.\\nbot: How many bedrooms do you need, Studio, 1, 2 or 3 bedroom?\\nuser: 2\\nbot: When would you like to move in  (MM/DD/YYYY)?\\nuser: 7/1\\nbot: Here is what I found for 2 bedroom apartments with a move in date of 07/01/2022. Click https://www.chatiqqa.com/floorplans/magnolia?ga=123123 to see additional availability.\\nbot: Floor Plan - Magnolia - 2 bedroom 1.5 bath with 1010 Sqft 4 unit(s) available. Rent starting at $980.\\nbot: Pricing and availability are subject to change at any time.\\nbot: How else can I help you?\\nuser: availability\\nbot: Our availability is very dynamic and we are happy to share the info with you.\\nbot: How many bedrooms do you need, Studio, 1, 2 or 3 bedroom?\\nuser: what is available\\nbot: what is available is not a valid option.\\nbot: How many bedrooms do you need, Studio, 1, 2 or 3 bedroom?\\nuser: STOp   \n",
      "1                                                                                                                                                                                                                                                                                                                                                                                                                                                                                                                                                                                                                                                                                                                                                                                                                                                                                                                                                                                                                                                                                                                                                                                                                                                                                                                                                                                                                                                                                                                                                                                                                                                                                                                                                                                                                                                                                                                                                                                                                                                                                                                                                                                                                                                                                                                                                                                                                                                                bot:  \\n \\n \\n \\n Dear test850crmcurr , \\n The Leasing Office at come to DNC IQ: Loblolly Pine Villas1 has generated a lease renewal offer for you. Please log into Resident Services to accept or let us know you will be moving. \\n https://iq01-crmiqqa.securercqatolnet.com/residentservices/come-to-dnc-iq-loblolly-pine-villas1/userlogin \\n Thank You, \\r\\n\\t\\t\\tSteven Kreiner \\r\\n\\t\\t\\tcome to DNC IQ: Loblolly Pine Villas1   \n",
      "2                                                                                                                                                                                                                                                                                                                                                                                                                                                                                                                                                                                                                                                                                                                                                                                                                                                                                                                                                                                                                                                                                                                                                                                                                                                                                                                                                                                                                                                                                                                                                                                                                                                                                                                                                                                                                                                                                                                                                                                                                                                                                                                                                                                                                                                                                                                                                                                                                                                                                                                                                                                                                                                                                          user: Hey\\n\\nuser: Does this property have some reviews?\\nbot: Here are the property reviews that you requested.\\n www.rcqatolcorp2.com/apartments/ca/new-york/autorcld-leasesign/propertysiteratings.aspx\\n   \n",
      "3                                                                                                                                                                                                                                                                                                                                                                                                                                                                                                                                                                                                                                                                                                                                                                                                                                                                                                                                                                                                                                                                                                                                                                                                                                                                                                                                                                                                                                                                                                                                                                                                                                                                                                                                                                                                                                                                                                                                                                                                                                                                                                                                                                                                                                                                                                                                                                                                                                                                                                                                                                                                    user: FirstName: PK_91824<br>LastName: PK_91824<br>Address1: <br>Address2: <br>City: <br>State: <br>ZipCode: <br>Email: test@gmail.com<br>CellPhone: 9995551111<br>HomePhone: <br>OfficePhone: <br>FaxPhone: <br>Bedrooms: <br>DesiredRent: 0<br>ExpectedMoveIn: <br>Appointment: <br>Notes: .<br>   \n",
      "4                                                                                                                                                                                                                                                                                                                                                                                                                                                                                                                                                                                                                                                                                                                                                                                                                                                                                                                                                                                                                                                                                                                                                                                                                                                                                                                                                                                                                                                                                                                                                                                                                                                                                                                                                                                                                                                                                                                                                                                                                                                                                                                                                                                                                                                                                                                                                                                                                                                                                                                                   user: START\\nuser: hello\\nbot: Hello! Welcome to Chapel Tower.\\nbot: How can I help you?\\nuser: schedule a tour\\nbot: We are now offering your tour, your way. We are looking forward to providing your tour experience in-person and virtually, whichever is most convenient for you.\\nbot: Select the preferred tour type: Guided, Self-guided or Live Video Tour   \n",
      "\n",
      "  result       confidence_score  \n",
      "0  successful  0.615991          \n",
      "1  successful  0.866109          \n",
      "2  successful  0.999249          \n",
      "3  successful  0.972551          \n",
      "4  successful  0.837603          \n"
     ]
    }
   ],
   "source": [
    "pd.set_option('display.max_colwidth', None)\n",
    "pd.set_option('display.colheader_justify', 'left')\n",
    "print(ta_df.head())\n"
   ]
  },
  {
   "cell_type": "code",
   "execution_count": 36,
   "metadata": {},
   "outputs": [],
   "source": [
    "bartdf = pd.read_pickle('bart.pkl')\n",
    "bertdf = pd.read_pickle('bert_base_uncased.pkl')\n",
    "tadf = pd.read_pickle('textattack.pkl')\n",
    "\n",
    "bartdf.to_csv('bart.csv', index=False)\n",
    "bertdf.to_csv('bert.csv', index=False)\n",
    "tadf.to_csv('textattack.csv', index=False)"
   ]
  },
  {
   "cell_type": "code",
   "execution_count": 37,
   "metadata": {},
   "outputs": [
    {
     "data": {
      "text/plain": [
       "Index(['ConversationId', 'Conversation', 'result', 'confidence_score'], dtype='object')"
      ]
     },
     "execution_count": 37,
     "metadata": {},
     "output_type": "execute_result"
    }
   ],
   "source": [
    "bartdf.columns"
   ]
  },
  {
   "cell_type": "code",
   "execution_count": 40,
   "metadata": {},
   "outputs": [
    {
     "name": "stdout",
     "output_type": "stream",
     "text": [
      "89838 188714 14044 180058 92814 180088 158307 132043 193869 205856 60219 143279 107979 99892 141673 113837 134522 140700 207653 38227 199392 40158 130040 133730 207468 4388 134441 211256 145447 144967 156837 96106 217963 86860 55604 4001 91786 198752 41567 168359 165170 39334 39210 88639 61097 58614 220335 166523 20757 161127 29566 56670 127155 119458 103362 200399 174832 171761 16799 10264 126058 169304 208606 93928 31354 2093 93422 218578 220958 62155 56424 16788 145707 44718 40412 181607 152791 113635 182491 64345 48968 30732 219099 52967 26713 31684 210252 6785 45826 200975 71593 93757 46877 79368 30992 193955 73900 200976 194603 205417 13279 83870 119996 121462 40902 145744 115769 98769 21071 39888 182662 192674 87209 182854 24179 153243 8809 162145 36280 204010 64952 199120 228920 48365 61566 22281 56331 202443 28407 114628 36740 117383 148409 145390 98616 84633 84072 108615 100397 92003 208771 100398 101429 142189 165548 59842 26757 205915 17121 159145 22013 209309 212445 42481 189405 12574 172704 32127 211142 196833 105361 70876 14473 23569 104743 150374 22262 27403 28539 9159 154980 154030 86178 195201 158148 97718 75863 99008 143352 97072 187869 73520 110233 218035 201705 125594 47948 163369 28035 135418 85913 71505 152282 137378 197632 60534 12532 130101 "
     ]
    }
   ],
   "source": [
    "for conid in bartdf['ConversationId']:\n",
    "    print(conid, end=\" \")"
   ]
  },
  {
   "cell_type": "code",
   "execution_count": null,
   "metadata": {},
   "outputs": [],
   "source": [
    "check=[60219,92814]"
   ]
  },
  {
   "cell_type": "code",
   "execution_count": 41,
   "metadata": {},
   "outputs": [
    {
     "name": "stdout",
     "output_type": "stream",
     "text": [
      "2.2.3\n"
     ]
    }
   ],
   "source": [
    "import numpy as np\n",
    "print(np.__version__)"
   ]
  },
  {
   "cell_type": "code",
   "execution_count": 42,
   "metadata": {},
   "outputs": [],
   "source": [
    "df4 = pd.read_pickle('convo3.pkl')\n",
    "df4.to_csv('convo3.csv',index=False)"
   ]
  },
  {
   "cell_type": "code",
   "execution_count": 1,
   "metadata": {},
   "outputs": [],
   "source": [
    "import pandas as pd\n",
    "\n",
    "df= pd.read_pickle('convo4.pkl')\n",
    "\n",
    "df_sample = df.sample(n=20, random_state=42)\n",
    "df_sample.to_csv(\"test_set.csv\", index=False)"
   ]
  },
  {
   "cell_type": "code",
   "execution_count": 1,
   "metadata": {},
   "outputs": [
    {
     "data": {
      "text/plain": [
       "Index(['ConversationId', 'Conversation'], dtype='object')"
      ]
     },
     "execution_count": 1,
     "metadata": {},
     "output_type": "execute_result"
    }
   ],
   "source": [
    "import pandas as pd\n",
    "\n",
    "df= pd.read_pickle('convo4.pkl')\n",
    "\n",
    "# df_sample = df.sample(n=20, random_state=42)\n",
    "# df_sample.to_csv(\"test_set.csv\", index=False)\n",
    "df.columns"
   ]
  },
  {
   "cell_type": "code",
   "execution_count": 2,
   "metadata": {},
   "outputs": [
    {
     "name": "stdout",
     "output_type": "stream",
     "text": [
      "    conversationid  status\n",
      "0           150668       1\n",
      "1           154175       1\n",
      "2           155134       1\n",
      "3           163022       1\n",
      "4           164228       1\n",
      "..             ...     ...\n",
      "75          224169       0\n",
      "76          223305       0\n",
      "77          220733       0\n",
      "78          220693       0\n",
      "79          218150       0\n",
      "\n",
      "[80 rows x 2 columns]\n"
     ]
    }
   ],
   "source": [
    "successful = [150668, 154175, 155134, 163022, 164228, 164297, 164312, 164412, 165167, 165259, 165271, 165344, 167114, 168576, 168749, 168805, 168821, 168830, 230234, 229702, 229592, 228974, 228963, 228922, 228549, 228548, 228544, 226841, 226821, 226812, 226810, 226775, 226726, 226703, 224189, 224163, 223297, 223291, 220704, 218157, 218144, 218069, 218026, 217986, 217969, 215921, 215827, 212269, 212260, 211947]\n",
    "\n",
    "unsuccessful = [150117, 154114, 154118, 154186, 154197, 155125, 165187, 165197, 165365, 167107, 167253, 167255, 229698, 229688, 229678, 229596, 228952, 228924, 228884, 228789, 228739, 228554, 226856, 226708, 224194, 224169, 223305, 220733, 220693, 218150]\n",
    "\n",
    "# Combine all IDs and label them\n",
    "data = {\"conversationid\": successful + unsuccessful, \"status\": [1] * len(successful) + [0] * len(unsuccessful)}\n",
    "\n",
    "# Create DataFrame\n",
    "df = pd.DataFrame(data)\n",
    "\n",
    "# Save to CSV\n",
    "df.to_csv(\"test_set_pd.csv\", index=False)\n",
    "\n",
    "# Display DataFrame\n",
    "print(df)"
   ]
  },
  {
   "cell_type": "code",
   "execution_count": 1,
   "metadata": {},
   "outputs": [
    {
     "name": "stdout",
     "output_type": "stream",
     "text": [
      "{'label': 'Successful', 'confidence': 0.95}\n"
     ]
    }
   ],
   "source": [
    "import json\n",
    "\n",
    "response_body = \"{\\\"label\\\": \\\"Successful\\\",\\\"confidence\\\": 0.95}\"\n",
    "parsed_response = json.loads(response_body)\n",
    "print(parsed_response)"
   ]
  },
  {
   "cell_type": "code",
   "execution_count": null,
   "metadata": {},
   "outputs": [],
   "source": [
    "falsee = [164297, 168830, 154186, 154197, 165197, 167253, 229698, 229678, 226708, 46717, ]\n",
    "\n",
    "special = 167253\n",
    "\n",
    "228974"
   ]
  }
 ],
 "metadata": {
  "kernelspec": {
   "display_name": "env",
   "language": "python",
   "name": "python3"
  },
  "language_info": {
   "codemirror_mode": {
    "name": "ipython",
    "version": 3
   },
   "file_extension": ".py",
   "mimetype": "text/x-python",
   "name": "python",
   "nbconvert_exporter": "python",
   "pygments_lexer": "ipython3",
   "version": "3.12.8"
  }
 },
 "nbformat": 4,
 "nbformat_minor": 2
}
